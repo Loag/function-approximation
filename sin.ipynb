{
 "cells": [
  {
   "cell_type": "code",
   "execution_count": 166,
   "metadata": {},
   "outputs": [],
   "source": [
    "import math\n",
    "import torch\n",
    "from torch.utils.data import Dataset, DataLoader\n",
    "import torch.nn as nn\n",
    "import torch.optim as optim"
   ]
  },
  {
   "cell_type": "code",
   "execution_count": 167,
   "metadata": {},
   "outputs": [],
   "source": [
    "device = torch.device(\"mps\" if torch.backends.mps.is_available() else \"cpu\")"
   ]
  },
  {
   "cell_type": "markdown",
   "metadata": {},
   "source": [
    "This model approximates the function f(x) = 1/1+e^-x"
   ]
  },
  {
   "cell_type": "code",
   "execution_count": 168,
   "metadata": {},
   "outputs": [],
   "source": [
    "import struct\n",
    "\n",
    "def int_to_64bit_list(number):\n",
    "    binary_str = format(number, '064b')\n",
    "    return [int(bit) for bit in binary_str]\n",
    "\n",
    "def float_to_64bit_list(f):\n",
    "    packed = struct.pack('!d', f)\n",
    "    bits = ''.join(f'{byte:08b}' for byte in packed)\n",
    "    return [int(bit) for bit in bits]"
   ]
  },
  {
   "cell_type": "code",
   "execution_count": 169,
   "metadata": {},
   "outputs": [],
   "source": [
    "# test dataset\n",
    "function = lambda x: math.sin(x)\n",
    "ints = [x for x in range(1, 100_000)]\n",
    "\n",
    "input_data = [int_to_64bit_list(x) for x in ints]\n",
    "\n",
    "output_labels = [function(x) for x in ints]\n"
   ]
  },
  {
   "cell_type": "code",
   "execution_count": 170,
   "metadata": {},
   "outputs": [
    {
     "name": "stdout",
     "output_type": "stream",
     "text": [
      "tensor([0., 0., 0., 0., 0., 0., 0., 0., 0., 0., 0., 0., 0., 0., 0., 0., 0., 0.,\n",
      "        0., 0., 0., 0., 0., 0., 0., 0., 0., 0., 0., 0., 0., 0., 0., 0., 0., 0.,\n",
      "        0., 0., 0., 0., 0., 0., 0., 0., 0., 0., 0., 0., 0., 0., 0., 0., 0., 0.,\n",
      "        0., 1., 1., 1., 1., 1., 0., 1., 0., 1.])\n",
      "tensor(-0.9965)\n"
     ]
    }
   ],
   "source": [
    "t = torch.Tensor(input_data)\n",
    "print(t[500])\n",
    "\n",
    "\n",
    "t = torch.Tensor(output_labels)\n",
    "print(t[500])"
   ]
  },
  {
   "cell_type": "code",
   "execution_count": 171,
   "metadata": {},
   "outputs": [],
   "source": [
    "class Data(Dataset):\n",
    "    def __init__(self, inputs, outputs):\n",
    "        self.inputs = inputs\n",
    "        self.labels = outputs\n",
    "\n",
    "    def __len__(self):\n",
    "        return len(self.labels)\n",
    "\n",
    "    def __getitem__(self, idx):\n",
    "        return torch.tensor(self.inputs[idx], dtype=torch.float32), torch.tensor(self.labels[idx], dtype=torch.float32)"
   ]
  },
  {
   "cell_type": "code",
   "execution_count": 172,
   "metadata": {},
   "outputs": [],
   "source": [
    "class Model(nn.Module):\n",
    "    def __init__(self):\n",
    "        super(Model, self).__init__()  \n",
    "        self.layer1 = nn.Linear(64, 64 * 5) # 64 bits in\n",
    "        self.layer2 = nn.Linear(64 * 5, 64 * 10)  \n",
    "        self.output = nn.Linear(64 * 10, 1) # 64 bits out\n",
    "\n",
    "    def forward(self, x):\n",
    "        x = torch.relu(self.layer1(x))\n",
    "        x = torch.relu(self.layer2(x))\n",
    "        x = self.output(x)\n",
    "        return x"
   ]
  },
  {
   "cell_type": "code",
   "execution_count": 181,
   "metadata": {},
   "outputs": [
    {
     "name": "stdout",
     "output_type": "stream",
     "text": [
      "Loss: 0.5203452706336975\n",
      "Loss: 0.537867546081543\n",
      "Loss: 0.5687859654426575\n",
      "Loss: 0.5748502612113953\n",
      "Loss: 0.477509081363678\n",
      "Loss: 0.39628034830093384\n",
      "Loss: 0.07464863359928131\n",
      "Loss: 0.05374307185411453\n",
      "Loss: 0.0495455376803875\n",
      "Loss: 0.020435582846403122\n",
      "Loss: 0.04044293239712715\n",
      "Loss: 0.010281447321176529\n",
      "Loss: 0.00950159877538681\n",
      "Loss: 0.011789032258093357\n",
      "Loss: 0.028798924759030342\n",
      "Loss: 0.00361211271956563\n",
      "Loss: 0.0035207923501729965\n",
      "Loss: 0.007657609414309263\n",
      "Loss: 0.004893044009804726\n",
      "Loss: 0.006681011524051428\n",
      "Loss: 0.010199647396802902\n",
      "Loss: 0.001999662956222892\n",
      "Loss: 0.010047278366982937\n",
      "Loss: 0.016984721645712852\n",
      "Loss: 0.006052306387573481\n",
      "Loss: 0.004431175533682108\n",
      "Loss: 0.0037989444099366665\n",
      "Loss: 0.013352916575968266\n",
      "Loss: 0.03390971198678017\n",
      "Loss: 0.035503167659044266\n",
      "Loss: 0.0015753427287563682\n",
      "Loss: 0.001956128515303135\n",
      "Loss: 0.026555636897683144\n",
      "Loss: 0.0016077703330665827\n",
      "Loss: 0.004002026282250881\n",
      "Loss: 0.0019036629237234592\n",
      "Loss: 0.002629634225741029\n",
      "Loss: 0.003770967246964574\n",
      "Loss: 0.01210001204162836\n",
      "Loss: 0.0011327737011015415\n",
      "Loss: 0.003413494909182191\n",
      "Loss: 0.0007331700180657208\n",
      "Loss: 0.033635400235652924\n",
      "Loss: 0.013892989605665207\n",
      "Loss: 0.0011463073315098882\n",
      "Loss: 0.0031835283152759075\n",
      "Loss: 0.0012361375847831368\n",
      "Loss: 0.0019413415575399995\n",
      "Loss: 0.0095005938783288\n",
      "Loss: 0.000811113219242543\n"
     ]
    }
   ],
   "source": [
    "training_dataset = Data(input_data, output_labels)\n",
    "training_loader = DataLoader(training_dataset, batch_size=32, shuffle=True)\n",
    "\n",
    "model = Model().to(device)\n",
    "\n",
    "loss = nn.MSELoss()\n",
    "optimizer = optim.SGD(model.parameters(), lr=0.001, momentum=0.9)\n",
    "\n",
    "for epoch in range(50):\n",
    "    for data in training_loader:\n",
    "        inputs, labels = data\n",
    "        labels = labels.view(-1, 1)\n",
    "        optimizer.zero_grad()\n",
    "        out = model(inputs.to(device))\n",
    "        loss_size = loss(out, labels.to(device))\n",
    "        loss_size.backward()\n",
    "        optimizer.step()\n",
    "\n",
    "    print(f\"Loss: {loss_size}\")\n",
    "\n",
    "torch.save(model.state_dict(), \"model\")"
   ]
  },
  {
   "cell_type": "code",
   "execution_count": 189,
   "metadata": {},
   "outputs": [
    {
     "name": "stdout",
     "output_type": "stream",
     "text": [
      "approx: 0.8269626498222351\n",
      "answer: 0.8414709568023682\n",
      "percentage difference: 1.7391530275344849%\n",
      "approx: 0.9084844589233398\n",
      "answer: 0.9092974066734314\n",
      "percentage difference: 0.08944392204284668%\n",
      "approx: 0.14180268347263336\n",
      "answer: 0.14112000167369843\n",
      "percentage difference: 0.48259249329566956%\n",
      "approx: -0.7345138788223267\n",
      "answer: -0.756802499294281\n",
      "percentage difference: -2.9891204833984375%\n",
      "approx: -1.0075446367263794\n",
      "answer: -0.9589242935180664\n",
      "percentage difference: -4.944938659667969%\n",
      "approx: -0.2705501317977905\n",
      "answer: -0.279415488243103\n",
      "percentage difference: -3.2239675521850586%\n",
      "approx: 0.6830933690071106\n",
      "answer: 0.6569865942001343\n",
      "percentage difference: 3.896300792694092%\n",
      "approx: 0.9983935356140137\n",
      "answer: 0.9893582463264465\n",
      "percentage difference: 0.909096360206604%\n",
      "approx: 0.4112817049026489\n",
      "answer: 0.41211849451065063\n",
      "percentage difference: 0.20325224101543427%\n",
      "approx: -0.5268750786781311\n",
      "answer: -0.5440211296081543\n",
      "percentage difference: -3.2021872997283936%\n",
      "approx: -0.9947229623794556\n",
      "answer: -0.9999902248382568\n",
      "percentage difference: -0.5281223058700562%\n",
      "approx: -0.48218774795532227\n",
      "answer: -0.5365729331970215\n",
      "percentage difference: -10.67673397064209%\n",
      "approx: 0.4430779218673706\n",
      "answer: 0.4201670289039612\n",
      "percentage difference: 5.308085918426514%\n",
      "approx: 0.9771728515625\n",
      "answer: 0.9906073808670044\n",
      "percentage difference: 1.3654502630233765%\n",
      "approx: 0.6719062924385071\n",
      "answer: 0.6502878665924072\n",
      "percentage difference: 3.2700836658477783%\n",
      "approx: -0.23932360112667084\n",
      "answer: -0.2879033088684082\n",
      "percentage difference: -18.428386688232422%\n",
      "approx: -0.9563591480255127\n",
      "answer: -0.9613974690437317\n",
      "percentage difference: -0.5254390835762024%\n",
      "approx: -0.7343183755874634\n",
      "answer: -0.7509872317314148\n",
      "percentage difference: -2.244501829147339%\n",
      "approx: 0.15876223146915436\n",
      "answer: 0.14987720549106598\n",
      "percentage difference: 5.757544040679932%\n",
      "approx: 0.9320471286773682\n",
      "answer: 0.9129452705383301\n",
      "percentage difference: 2.0706706047058105%\n"
     ]
    }
   ],
   "source": [
    "def percentage_difference(a, b):\n",
    "    return abs(a - b) / ((a + b) / 2) * 100#\n",
    "\n",
    "for i in range(20):\n",
    "  with torch.no_grad():\n",
    "    val = torch.tensor(input_data[i], dtype=torch.float32).to(device)\n",
    "    answer = torch.tensor(output_labels[i], dtype=torch.float32).to(device)\n",
    "\n",
    "    outputs = model(val)  # Get predictions from the model.\n",
    "    print(f\"approx: {outputs.data.item()}\")\n",
    "    print(f\"answer: {answer}\")\n",
    "\n",
    "    print(f\"percentage difference: {percentage_difference(outputs.data.item(), answer)}%\")"
   ]
  }
 ],
 "metadata": {
  "kernelspec": {
   "display_name": "venv",
   "language": "python",
   "name": "python3"
  },
  "language_info": {
   "codemirror_mode": {
    "name": "ipython",
    "version": 3
   },
   "file_extension": ".py",
   "mimetype": "text/x-python",
   "name": "python",
   "nbconvert_exporter": "python",
   "pygments_lexer": "ipython3",
   "version": "3.11.6"
  }
 },
 "nbformat": 4,
 "nbformat_minor": 2
}
