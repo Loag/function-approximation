{
 "cells": [
  {
   "cell_type": "code",
   "execution_count": 166,
   "metadata": {},
   "outputs": [],
   "source": [
    "import math\n",
    "import torch\n",
    "from torch.utils.data import Dataset, DataLoader\n",
    "import torch.nn as nn\n",
    "import torch.optim as optim"
   ]
  },
  {
   "cell_type": "code",
   "execution_count": 167,
   "metadata": {},
   "outputs": [],
   "source": [
    "device = torch.device(\"mps\" if torch.backends.mps.is_available() else \"cpu\")"
   ]
  },
  {
   "cell_type": "markdown",
   "metadata": {},
   "source": [
    "This model approximates the function f(x) = 1/1+e^-x"
   ]
  },
  {
   "cell_type": "code",
   "execution_count": 168,
   "metadata": {},
   "outputs": [],
   "source": [
    "import struct\n",
    "\n",
    "def int_to_64bit_list(number):\n",
    "    binary_str = format(number, '064b')\n",
    "    return [int(bit) for bit in binary_str]\n",
    "\n",
    "def float_to_64bit_list(f):\n",
    "    packed = struct.pack('!d', f)\n",
    "    bits = ''.join(f'{byte:08b}' for byte in packed)\n",
    "    return [int(bit) for bit in bits]"
   ]
  },
  {
   "cell_type": "code",
   "execution_count": 169,
   "metadata": {},
   "outputs": [],
   "source": [
    "# test dataset\n",
    "function = lambda x: math.sin(x)\n",
    "ints = [x for x in range(1, 100_000)]\n",
    "\n",
    "input_data = [int_to_64bit_list(x) for x in ints]\n",
    "\n",
    "output_labels = [function(x) for x in ints]\n"
   ]
  },
  {
   "cell_type": "code",
   "execution_count": 170,
   "metadata": {},
   "outputs": [
    {
     "name": "stdout",
     "output_type": "stream",
     "text": [
      "tensor([0., 0., 0., 0., 0., 0., 0., 0., 0., 0., 0., 0., 0., 0., 0., 0., 0., 0.,\n",
      "        0., 0., 0., 0., 0., 0., 0., 0., 0., 0., 0., 0., 0., 0., 0., 0., 0., 0.,\n",
      "        0., 0., 0., 0., 0., 0., 0., 0., 0., 0., 0., 0., 0., 0., 0., 0., 0., 0.,\n",
      "        0., 1., 1., 1., 1., 1., 0., 1., 0., 1.])\n",
      "tensor(-0.9965)\n"
     ]
    }
   ],
   "source": [
    "t = torch.Tensor(input_data)\n",
    "print(t[500])\n",
    "\n",
    "\n",
    "t = torch.Tensor(output_labels)\n",
    "print(t[500])"
   ]
  },
  {
   "cell_type": "code",
   "execution_count": 171,
   "metadata": {},
   "outputs": [],
   "source": [
    "class Data(Dataset):\n",
    "    def __init__(self, inputs, outputs):\n",
    "        self.inputs = inputs\n",
    "        self.labels = outputs\n",
    "\n",
    "    def __len__(self):\n",
    "        return len(self.labels)\n",
    "\n",
    "    def __getitem__(self, idx):\n",
    "        return torch.tensor(self.inputs[idx], dtype=torch.float32), torch.tensor(self.labels[idx], dtype=torch.float32)"
   ]
  },
  {
   "cell_type": "code",
   "execution_count": 172,
   "metadata": {},
   "outputs": [],
   "source": [
    "class Model(nn.Module):\n",
    "    def __init__(self):\n",
    "        super(Model, self).__init__()  \n",
    "        self.layer1 = nn.Linear(64, 64 * 5) # 64 bits in\n",
    "        self.layer2 = nn.Linear(64 * 5, 64 * 10)  \n",
    "        self.output = nn.Linear(64 * 10, 1) # 64 bits out\n",
    "\n",
    "    def forward(self, x):\n",
    "        x = torch.relu(self.layer1(x))\n",
    "        x = torch.relu(self.layer2(x))\n",
    "        x = self.output(x)\n",
    "        return x"
   ]
  },
  {
   "cell_type": "code",
   "execution_count": 181,
   "metadata": {},
   "outputs": [
    {
     "name": "stdout",
     "output_type": "stream",
     "text": [
      "Loss: 0.5203452706336975\n",
      "Loss: 0.537867546081543\n",
      "Loss: 0.5687859654426575\n",
      "Loss: 0.5748502612113953\n",
      "Loss: 0.477509081363678\n",
      "Loss: 0.39628034830093384\n",
      "Loss: 0.07464863359928131\n",
      "Loss: 0.05374307185411453\n",
      "Loss: 0.0495455376803875\n",
      "Loss: 0.020435582846403122\n",
      "Loss: 0.04044293239712715\n",
      "Loss: 0.010281447321176529\n",
      "Loss: 0.00950159877538681\n",
      "Loss: 0.011789032258093357\n",
      "Loss: 0.028798924759030342\n",
      "Loss: 0.00361211271956563\n",
      "Loss: 0.0035207923501729965\n",
      "Loss: 0.007657609414309263\n",
      "Loss: 0.004893044009804726\n",
      "Loss: 0.006681011524051428\n",
      "Loss: 0.010199647396802902\n",
      "Loss: 0.001999662956222892\n",
      "Loss: 0.010047278366982937\n",
      "Loss: 0.016984721645712852\n",
      "Loss: 0.006052306387573481\n",
      "Loss: 0.004431175533682108\n",
      "Loss: 0.0037989444099366665\n",
      "Loss: 0.013352916575968266\n",
      "Loss: 0.03390971198678017\n",
      "Loss: 0.035503167659044266\n",
      "Loss: 0.0015753427287563682\n",
      "Loss: 0.001956128515303135\n",
      "Loss: 0.026555636897683144\n",
      "Loss: 0.0016077703330665827\n",
      "Loss: 0.004002026282250881\n",
      "Loss: 0.0019036629237234592\n",
      "Loss: 0.002629634225741029\n",
      "Loss: 0.003770967246964574\n",
      "Loss: 0.01210001204162836\n",
      "Loss: 0.0011327737011015415\n",
      "Loss: 0.003413494909182191\n",
      "Loss: 0.0007331700180657208\n",
      "Loss: 0.033635400235652924\n",
      "Loss: 0.013892989605665207\n",
      "Loss: 0.0011463073315098882\n",
      "Loss: 0.0031835283152759075\n",
      "Loss: 0.0012361375847831368\n",
      "Loss: 0.0019413415575399995\n",
      "Loss: 0.0095005938783288\n",
      "Loss: 0.000811113219242543\n"
     ]
    }
   ],
   "source": [
    "training_dataset = Data(input_data, output_labels)\n",
    "training_loader = DataLoader(training_dataset, batch_size=32, shuffle=True)\n",
    "\n",
    "model = Model().to(device)\n",
    "\n",
    "loss = nn.MSELoss()\n",
    "optimizer = optim.SGD(model.parameters(), lr=0.001, momentum=0.9)\n",
    "\n",
    "for epoch in range(50):\n",
    "    for data in training_loader:\n",
    "        inputs, labels = data\n",
    "        labels = labels.view(-1, 1)\n",
    "        optimizer.zero_grad()\n",
    "        out = model(inputs.to(device))\n",
    "        loss_size = loss(out, labels.to(device))\n",
    "        loss_size.backward()\n",
    "        optimizer.step()\n",
    "\n",
    "    print(f\"Loss: {loss_size}\")\n",
    "\n",
    "torch.save(model.state_dict(), \"model\")"
   ]
  },
  {
   "cell_type": "code",
   "execution_count": 184,
   "metadata": {},
   "outputs": [
    {
     "name": "stdout",
     "output_type": "stream",
     "text": [
      "tensor([-0.9194], device='mps:0')\n",
      "tensor(-0.9018, device='mps:0')\n"
     ]
    }
   ],
   "source": [
    "with torch.no_grad():\n",
    "  val = torch.tensor(input_data[400], dtype=torch.float32).to(device)\n",
    "  answer = torch.tensor(output_labels[400], dtype=torch.float32).to(device)\n",
    "\n",
    "  outputs = model(val)  # Get predictions from the model.\n",
    "  print(outputs.data)\n",
    "  print(answer)\n",
    "# print('Accuracy of the network on the 10000 test images: %d %%' % (100 * correct / total))"
   ]
  }
 ],
 "metadata": {
  "kernelspec": {
   "display_name": "venv",
   "language": "python",
   "name": "python3"
  },
  "language_info": {
   "codemirror_mode": {
    "name": "ipython",
    "version": 3
   },
   "file_extension": ".py",
   "mimetype": "text/x-python",
   "name": "python",
   "nbconvert_exporter": "python",
   "pygments_lexer": "ipython3",
   "version": "3.11.6"
  }
 },
 "nbformat": 4,
 "nbformat_minor": 2
}
