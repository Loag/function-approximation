{
 "cells": [
  {
   "cell_type": "code",
   "execution_count": 232,
   "metadata": {},
   "outputs": [],
   "source": [
    "import math\n",
    "import torch\n",
    "from torch.utils.data import Dataset, DataLoader\n",
    "import torch.nn as nn\n",
    "import torch.optim as optim"
   ]
  },
  {
   "cell_type": "code",
   "execution_count": 233,
   "metadata": {},
   "outputs": [],
   "source": [
    "device = torch.device(\"mps\" if torch.backends.mps.is_available() else \"cpu\")"
   ]
  },
  {
   "cell_type": "markdown",
   "metadata": {},
   "source": [
    "This model approximates the function f(x) = 1/1+e^-x"
   ]
  },
  {
   "cell_type": "code",
   "execution_count": 234,
   "metadata": {},
   "outputs": [],
   "source": [
    "def int_to_64bit_list(number):\n",
    "    binary_str = format(number, '064b')\n",
    "    return [int(bit) for bit in binary_str]\n",
    "\n",
    "def float_to_64bit_list(number):\n",
    "    binary_str = format(int(number * 2**63), '064b')\n",
    "    return [int(bit) for bit in binary_str]"
   ]
  },
  {
   "cell_type": "code",
   "execution_count": 235,
   "metadata": {},
   "outputs": [
    {
     "name": "stdout",
     "output_type": "stream",
     "text": [
      "64\n"
     ]
    }
   ],
   "source": [
    "# test dataset\n",
    "logistic = lambda x: 1 / (1 + math.exp(-x))\n",
    "\n",
    "ints = [x for x in range(100_000)]\n",
    "\n",
    "input = [int_to_64bit_list(x) for x in ints]\n",
    "\n",
    "labels = [float_to_64bit_list(logistic(x)) for x in ints]\n",
    "\n",
    "print(len(input[37]))"
   ]
  },
  {
   "cell_type": "code",
   "execution_count": 236,
   "metadata": {},
   "outputs": [
    {
     "data": {
      "text/plain": [
       "tensor([0., 0., 0., 0., 0., 0., 0., 0., 0., 0., 0., 0., 0., 0., 0., 0., 0., 0., 0., 0., 0., 0., 0., 0.,\n",
       "        0., 0., 0., 0., 0., 0., 0., 0., 0., 0., 0., 0., 0., 0., 0., 0., 0., 0., 0., 0., 0., 0., 0., 0.,\n",
       "        0., 0., 0., 0., 0., 0., 0., 0., 0., 0., 0., 0., 0., 0., 0., 0.])"
      ]
     },
     "execution_count": 236,
     "metadata": {},
     "output_type": "execute_result"
    }
   ],
   "source": [
    "t = torch.Tensor(input)\n",
    "t[0]"
   ]
  },
  {
   "cell_type": "code",
   "execution_count": 237,
   "metadata": {},
   "outputs": [],
   "source": [
    "def recover(x):\n",
    "  binary_str = ''.join(str(bit) for bit in x)\n",
    "  integer_value = int(binary_str, 2)\n",
    "  return integer_value / 2**64"
   ]
  },
  {
   "cell_type": "code",
   "execution_count": 238,
   "metadata": {},
   "outputs": [
    {
     "name": "stdout",
     "output_type": "stream",
     "text": [
      "0.75 -> 0.375\n",
      "0.5 -> 0.25\n",
      "0.25 -> 0.125\n",
      "0.125 -> 0.0625\n",
      "0.0625 -> 0.03125\n",
      "0.03125 -> 0.015625\n"
     ]
    }
   ],
   "source": [
    "# test converting floats to 64-bit binary and back\n",
    "\n",
    "test_set = [0.75, 0.5, 0.25, 0.125, 0.0625, 0.03125]\n",
    "\n",
    "for x in test_set:\n",
    "    print(f\"{x} -> {recover(float_to_64bit_list(x))}\")"
   ]
  },
  {
   "cell_type": "code",
   "execution_count": 239,
   "metadata": {},
   "outputs": [],
   "source": [
    "class Data(Dataset):\n",
    "    def __init__(self, inputs, outputs):\n",
    "        self.inputs = inputs\n",
    "        self.labels = outputs\n",
    "\n",
    "    def __len__(self):\n",
    "        return len(self.labels)\n",
    "\n",
    "    def __getitem__(self, idx):\n",
    "        return torch.tensor(self.inputs[idx], dtype=torch.float32), torch.tensor(self.labels[idx], dtype=torch.float32)"
   ]
  },
  {
   "cell_type": "code",
   "execution_count": 240,
   "metadata": {},
   "outputs": [],
   "source": [
    "class Model(nn.Module):\n",
    "    def __init__(self):\n",
    "        super(Model, self).__init__()  \n",
    "        self.layer1 = nn.Linear(64, 512 * 5) # 64 bits in\n",
    "        self.layer2 = nn.Linear(512 * 5, 512 * 10)  \n",
    "        self.output = nn.Linear(512 * 10, 64) # 64 bits out\n",
    "\n",
    "    def forward(self, x):\n",
    "        # try relu to begin with\n",
    "        x = torch.relu(self.layer1(x))\n",
    "        x = torch.relu(self.layer2(x))\n",
    "        x = self.output(x)\n",
    "        return x"
   ]
  },
  {
   "cell_type": "code",
   "execution_count": 241,
   "metadata": {},
   "outputs": [
    {
     "name": "stdout",
     "output_type": "stream",
     "text": [
      "Loss: -0.0\n",
      "Loss: 2.864741190933273e-06\n",
      "Loss: -0.0\n",
      "Loss: -0.0\n",
      "Loss: -0.0\n",
      "Loss: -0.0\n",
      "Loss: -0.0\n",
      "Loss: -0.0\n",
      "Loss: -0.0\n",
      "Loss: -0.0\n"
     ]
    }
   ],
   "source": [
    "training_dataset = Data(input, labels)\n",
    "training_loader = torch.utils.data.DataLoader(training_dataset,batch_size=128)\n",
    "\n",
    "model = Model().to(device)\n",
    "\n",
    "loss = nn.CrossEntropyLoss()\n",
    "optimizer = optim.SGD(model.parameters(), lr=0.01, momentum=0.9)\n",
    "\n",
    "for epoch in range(10):\n",
    "    for data in training_loader:\n",
    "        inputs, labels = data\n",
    "        optimizer.zero_grad()\n",
    "        outputs = model(inputs.to(device))\n",
    "        loss_size = loss(outputs, labels.to(device))\n",
    "        loss_size.backward()\n",
    "        optimizer.step()\n",
    "\n",
    "    print(f\"Loss: {loss_size.item()}\")\n",
    "\n",
    "torch.save(model.state_dict(), \"model\")"
   ]
  }
 ],
 "metadata": {
  "kernelspec": {
   "display_name": "venv",
   "language": "python",
   "name": "python3"
  },
  "language_info": {
   "codemirror_mode": {
    "name": "ipython",
    "version": 3
   },
   "file_extension": ".py",
   "mimetype": "text/x-python",
   "name": "python",
   "nbconvert_exporter": "python",
   "pygments_lexer": "ipython3",
   "version": "3.11.6"
  }
 },
 "nbformat": 4,
 "nbformat_minor": 2
}
